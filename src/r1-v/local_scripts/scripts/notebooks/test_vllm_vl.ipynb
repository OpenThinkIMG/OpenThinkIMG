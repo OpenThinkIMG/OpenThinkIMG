{
 "cells": [
  {
   "cell_type": "code",
   "execution_count": 1,
   "metadata": {},
   "outputs": [
    {
     "name": "stderr",
     "output_type": "stream",
     "text": [
      "/mnt/petrelfs/songmingyang/anaconda3/envs/r1-v/lib/python3.11/site-packages/tqdm/auto.py:21: TqdmWarning: IProgress not found. Please update jupyter and ipywidgets. See https://ipywidgets.readthedocs.io/en/stable/user_install.html\n",
      "  from .autonotebook import tqdm as notebook_tqdm\n"
     ]
    },
    {
     "name": "stdout",
     "output_type": "stream",
     "text": [
      "INFO 02-21 22:13:16 __init__.py:190] Automatically detected platform cuda.\n"
     ]
    },
    {
     "name": "stderr",
     "output_type": "stream",
     "text": [
      "2025-02-21 22:13:17,604\tINFO util.py:154 -- Missing packages: ['ipywidgets']. Run `pip install -U ipywidgets`, then restart the notebook server for rich notebook output.\n"
     ]
    },
    {
     "name": "stdout",
     "output_type": "stream",
     "text": [
      "INFO 02-21 22:13:41 config.py:542] This model supports multiple tasks: {'embed', 'generate', 'score', 'reward', 'classify'}. Defaulting to 'generate'.\n",
      "INFO 02-21 22:13:41 llm_engine.py:234] Initializing a V0 LLM engine (v0.7.2) with config: model='/mnt/petrelfs/songmingyang/songmingyang/model/mm/Qwen2-VL-2B-Instruct', speculative_config=None, tokenizer='/mnt/petrelfs/songmingyang/songmingyang/model/mm/Qwen2-VL-2B-Instruct', skip_tokenizer_init=False, tokenizer_mode=auto, revision=None, override_neuron_config=None, tokenizer_revision=None, trust_remote_code=False, dtype=torch.bfloat16, max_seq_len=32768, download_dir=None, load_format=LoadFormat.AUTO, tensor_parallel_size=1, pipeline_parallel_size=1, disable_custom_all_reduce=False, quantization=None, enforce_eager=False, kv_cache_dtype=auto,  device_config=cuda, decoding_config=DecodingConfig(guided_decoding_backend='xgrammar'), observability_config=ObservabilityConfig(otlp_traces_endpoint=None, collect_model_forward_time=False, collect_model_execute_time=False), seed=0, served_model_name=/mnt/petrelfs/songmingyang/songmingyang/model/mm/Qwen2-VL-2B-Instruct, num_scheduler_steps=1, multi_step_stream_outputs=True, enable_prefix_caching=False, chunked_prefill_enabled=False, use_async_output_proc=True, disable_mm_preprocessor_cache=False, mm_processor_kwargs=None, pooler_config=None, compilation_config={\"splitting_ops\":[],\"compile_sizes\":[],\"cudagraph_capture_sizes\":[256,248,240,232,224,216,208,200,192,184,176,168,160,152,144,136,128,120,112,104,96,88,80,72,64,56,48,40,32,24,16,8,4,2,1],\"max_capture_size\":256}, use_cached_outputs=False, \n",
      "INFO 02-21 22:13:45 cuda.py:230] Using Flash Attention backend.\n",
      "INFO 02-21 22:13:57 model_runner.py:1110] Starting to load model /mnt/petrelfs/songmingyang/songmingyang/model/mm/Qwen2-VL-2B-Instruct...\n",
      "INFO 02-21 22:13:57 config.py:2992] cudagraph sizes specified by model runner [1, 2, 4, 8, 16, 24, 32, 40, 48, 56, 64, 72, 80, 88, 96, 104, 112, 120, 128, 136, 144, 152, 160, 168, 176, 184, 192, 200, 208, 216, 224, 232, 240, 248, 256] is overridden by config [256, 128, 2, 1, 4, 136, 8, 144, 16, 152, 24, 160, 32, 168, 40, 176, 48, 184, 56, 192, 64, 200, 72, 208, 80, 216, 88, 120, 224, 96, 232, 104, 240, 112, 248]\n"
     ]
    },
    {
     "name": "stderr",
     "output_type": "stream",
     "text": [
      "Loading safetensors checkpoint shards:   0% Completed | 0/2 [00:00<?, ?it/s]\n",
      "Loading safetensors checkpoint shards:  50% Completed | 1/2 [00:01<00:01,  1.33s/it]\n",
      "Loading safetensors checkpoint shards: 100% Completed | 2/2 [00:01<00:00,  1.40it/s]\n",
      "Loading safetensors checkpoint shards: 100% Completed | 2/2 [00:01<00:00,  1.24it/s]\n",
      "\n"
     ]
    },
    {
     "name": "stdout",
     "output_type": "stream",
     "text": [
      "INFO 02-21 22:14:00 model_runner.py:1115] Loading model weights took 4.1512 GB\n"
     ]
    },
    {
     "name": "stderr",
     "output_type": "stream",
     "text": [
      "Using a slow image processor as `use_fast` is unset and a slow processor was saved with this model. `use_fast=True` will be the default behavior in v4.48, even if the model was saved with a slow processor. This will result in minor differences in outputs. You'll still be able to use a slow processor with `use_fast=False`.\n"
     ]
    },
    {
     "name": "stdout",
     "output_type": "stream",
     "text": [
      "WARNING 02-21 22:14:02 model_runner.py:1288] Computed max_num_seqs (min(256, 32768 // 81920)) to be less than 1. Setting it to the minimum value of 1.\n"
     ]
    },
    {
     "name": "stderr",
     "output_type": "stream",
     "text": [
      "It looks like you are trying to rescale already rescaled images. If the input images have pixel values between 0 and 1, set `do_rescale=False` to avoid rescaling them again.\n",
      "Token indices sequence length is longer than the specified maximum sequence length for this model (81920 > 32768). Running this sequence through the model will result in indexing errors\n"
     ]
    },
    {
     "name": "stdout",
     "output_type": "stream",
     "text": [
      "WARNING 02-21 22:14:12 profiling.py:187] The context length (32768) of the model is too short to hold the multi-modal embeddings in the worst case (81920 tokens in total, out of which {'image': 65536, 'video': 16384} are reserved for multi-modal embeddings). This may cause certain multi-modal inputs to fail during inference, even when the input text is short. To avoid this, you should increase `max_model_len`, reduce `max_num_seqs`, and/or reduce `mm_counts`.\n",
      "INFO 02-21 22:14:17 worker.py:267] Memory profiling takes 16.53 seconds\n",
      "INFO 02-21 22:14:17 worker.py:267] the current vLLM instance can use total_gpu_memory (79.32GiB) x gpu_memory_utilization (0.90) = 71.39GiB\n",
      "INFO 02-21 22:14:17 worker.py:267] model weights take 4.15GiB; non_torch_memory takes 0.21GiB; PyTorch activation peak memory takes 2.02GiB; the rest of the memory reserved for KV Cache is 65.00GiB.\n",
      "INFO 02-21 22:14:17 executor_base.py:110] # CUDA blocks: 152146, # CPU blocks: 9362\n",
      "INFO 02-21 22:14:17 executor_base.py:115] Maximum concurrency for 32768 tokens per request: 74.29x\n",
      "INFO 02-21 22:14:21 model_runner.py:1434] Capturing cudagraphs for decoding. This may lead to unexpected consequences if the model is not static. To run the model in eager mode, set 'enforce_eager=True' or use '--enforce-eager' in the CLI. If out-of-memory error occurs during cudagraph capture, consider decreasing `gpu_memory_utilization` or switching to eager mode. You can also reduce the `max_num_seqs` as needed to decrease memory usage.\n"
     ]
    },
    {
     "name": "stderr",
     "output_type": "stream",
     "text": [
      "Capturing CUDA graph shapes: 100%|██████████| 35/35 [00:17<00:00,  2.01it/s]"
     ]
    },
    {
     "name": "stdout",
     "output_type": "stream",
     "text": [
      "INFO 02-21 22:14:39 model_runner.py:1562] Graph capturing finished in 18 secs, took 1.90 GiB\n",
      "INFO 02-21 22:14:39 llm_engine.py:431] init engine (profile, create kv cache, warmup model) took 38.64 seconds\n"
     ]
    },
    {
     "name": "stderr",
     "output_type": "stream",
     "text": [
      "\n"
     ]
    }
   ],
   "source": [
    "\n",
    "from vllm import LLM, SamplingParams\n",
    "# Specify the maximum number of frames per video to be 4. This can be changed.\n",
    "llm = LLM(\"/mnt/petrelfs/songmingyang/songmingyang/model/mm/Qwen2-VL-2B-Instruct\", limit_mm_per_prompt={\"image\": 4})"
   ]
  },
  {
   "cell_type": "code",
   "execution_count": 19,
   "metadata": {},
   "outputs": [],
   "source": [
    "from PIL import Image\n",
    "import io\n",
    "import base64,json\n",
    "def process_jsonl(file_path):\n",
    "    '''\n",
    "        将jsonl文件转换为装有dict的列表\n",
    "    '''\n",
    "    data = []\n",
    "    with open(file_path, 'r', encoding='utf-8') as file:\n",
    "        for line in file:\n",
    "            json_obj = json.loads(line)\n",
    "            data.append(json_obj)\n",
    "    return data\n",
    "\n",
    "def write_jsonl(data, file_path):\n",
    "    '''\n",
    "        将list[dict]写入jsonl文件\n",
    "    '''\n",
    "    with open(file_path, 'w', encoding='utf-8') as file:\n",
    "        for item in data:\n",
    "            line = json.dumps(item,ensure_ascii=False)\n",
    "            file.write(line + '\\n')\n",
    "def pil_to_base64(img: Image.Image, url_format = True) -> str:\n",
    "    \"\"\"\n",
    "    Convert a PIL image to a base64 encoded string.\n",
    "    \n",
    "    Args:\n",
    "        img (Image.Image): The PIL image to convert.\n",
    "        \n",
    "    Returns:\n",
    "        str: Base64 encoded string representation of the image.\n",
    "    \"\"\"\n",
    "    buffered = io.BytesIO()\n",
    "    img.save(buffered, format=\"JPEG\")\n",
    "    img_str = base64.b64encode(buffered.getvalue()).decode('utf-8')\n",
    "    if url_format:\n",
    "        img_str = f\"data:image/jpeg;base64,{img_str}\"\n",
    "    return img_str"
   ]
  },
  {
   "cell_type": "code",
   "execution_count": 20,
   "metadata": {
    "vscode": {
     "languageId": "plaintext"
    }
   },
   "outputs": [],
   "source": [
    "# Create the request payload.\n",
    "messages = process_jsonl(\"/mnt/petrelfs/songmingyang/code/reasoning/R1-V/src/r1-v/local_scripts/scripts/notebooks/test.jsonl\")\n",
    "message = [{\n",
    "    \"role\": \"user\",\n",
    "    \"content\": [\n",
    "        {\"type\": \"text\", \"text\": \"Describe this image in detail.\"},\n",
    "    ],\n",
    "},\n",
    "# {\n",
    "#     \"role\": \"user\",\n",
    "#     \"content\": [\n",
    "#         {\"type\": \"text\", \"text\": \"Describe this image in detail.\"},\n",
    "#     ],}\n",
    "]\n",
    "image_path = \"/mnt/petrelfs/songmingyang/code/tools/test_imgs/roxy.jpeg\"\n",
    "image = Image.open(image_path).convert(\"RGB\")\n",
    "image_base64 = pil_to_base64(image)\n",
    "new_image = {\"type\": \"image_url\", \"image_url\": {\"url\": f\"{image_base64}\"}}\n",
    "message[0][\"content\"].append(new_image)\n",
    "\n"
   ]
  },
  {
   "cell_type": "code",
   "execution_count": 24,
   "metadata": {},
   "outputs": [
    {
     "name": "stderr",
     "output_type": "stream",
     "text": [
      "\n",
      "\n",
      "Processed prompts:   0%|          | 0/1 [00:00<?, ?it/s, est. speed input: 0.00 toks/s, output: 0.00 toks/s]\u001b[A\u001b[A\n",
      "\n",
      "Processed prompts: 100%|██████████| 1/1 [00:00<00:00,  3.32it/s, est. speed input: 5532.75 toks/s, output: 53.36 toks/s]\u001b[A\u001b[A"
     ]
    },
    {
     "name": "stdout",
     "output_type": "stream",
     "text": [
      "The image is an illustration of an animated character. This character has a distinctive purple\n"
     ]
    },
    {
     "name": "stderr",
     "output_type": "stream",
     "text": [
      "\n"
     ]
    }
   ],
   "source": [
    "# Perform inference and log output.\n",
    "outputs = llm.chat([message])\n",
    "\n",
    "for o in outputs:\n",
    "    generated_text = o.outputs[0].text\n",
    "    print(generated_text)"
   ]
  },
  {
   "cell_type": "code",
   "execution_count": 29,
   "metadata": {},
   "outputs": [
    {
     "data": {
      "text/plain": [
       "(785,\n",
       " 2168,\n",
       " 374,\n",
       " 458,\n",
       " 39034,\n",
       " 315,\n",
       " 458,\n",
       " 11371,\n",
       " 3668,\n",
       " 13,\n",
       " 1096,\n",
       " 3668,\n",
       " 702,\n",
       " 264,\n",
       " 34847,\n",
       " 24932)"
      ]
     },
     "execution_count": 29,
     "metadata": {},
     "output_type": "execute_result"
    }
   ],
   "source": [
    "outputs[0].outputs[0].token_ids"
   ]
  },
  {
   "cell_type": "code",
   "execution_count": null,
   "metadata": {},
   "outputs": [],
   "source": []
  }
 ],
 "metadata": {
  "kernelspec": {
   "display_name": "r1-v",
   "language": "python",
   "name": "r1-v"
  },
  "language_info": {
   "codemirror_mode": {
    "name": "ipython",
    "version": 3
   },
   "file_extension": ".py",
   "mimetype": "text/x-python",
   "name": "python",
   "nbconvert_exporter": "python",
   "pygments_lexer": "ipython3",
   "version": "3.11.11"
  }
 },
 "nbformat": 4,
 "nbformat_minor": 4
}
