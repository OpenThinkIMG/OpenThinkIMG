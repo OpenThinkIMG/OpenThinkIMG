{
 "cells": [
  {
   "cell_type": "code",
   "execution_count": 1,
   "metadata": {},
   "outputs": [
    {
     "name": "stderr",
     "output_type": "stream",
     "text": [
      "/mnt/petrelfs/songmingyang/anaconda3/envs/smoe/lib/python3.11/site-packages/tqdm/auto.py:21: TqdmWarning: IProgress not found. Please update jupyter and ipywidgets. See https://ipywidgets.readthedocs.io/en/stable/user_install.html\n",
      "  from .autonotebook import tqdm as notebook_tqdm\n",
      "Generating validation split: 1000 examples [00:00, 2950.08 examples/s]\n",
      "Generating test split: 1323 examples [00:00, 3135.80 examples/s]\n"
     ]
    }
   ],
   "source": [
    "from datasets import load_dataset\n",
    "\n",
    "dataset = load_dataset(\"/mnt/petrelfs/songmingyang/songmingyang/data/mm/reasoning/tool_dataset/CharXiv\")\n"
   ]
  },
  {
   "cell_type": "code",
   "execution_count": 4,
   "metadata": {},
   "outputs": [
    {
     "data": {
      "text/plain": [
       "{'image': <PIL.JpegImagePlugin.JpegImageFile image mode=RGB size=1024x496>,\n",
       " 'category': 'cs',\n",
       " 'year': '20',\n",
       " 'original_figure_path': 'arXiv_src_2004_038/2004/2004.10956/figures/overall3.jpg',\n",
       " 'original_id': '2004.10956',\n",
       " 'figure_path': 'images/0.jpg',\n",
       " 'num_subplots': 2,\n",
       " 'subplot_row': 1,\n",
       " 'subplot_col': 2,\n",
       " 'subplot_loc': None,\n",
       " 'descriptive_q1': 7,\n",
       " 'descriptive_q2': 13,\n",
       " 'descriptive_q3': 11,\n",
       " 'descriptive_q4': 15,\n",
       " 'descriptive_a1': '60',\n",
       " 'descriptive_a2': 'Ft-CNN, iCaRL*, EEIL*, NCM*, Ours-AL, Ours-AL-MML, Joint-CNN',\n",
       " 'descriptive_a3': 'Yes',\n",
       " 'descriptive_a4': 'Not Applicable',\n",
       " 'reasoning_q': 'Which model shows a greater decline in accuracy from Session 1 to Session 9 in the 5-way full-shot scenario?',\n",
       " 'reasoning_q_source': 1,\n",
       " 'reasoning_a': 'Joint-CNN',\n",
       " 'reasoning_a_type': 1}"
      ]
     },
     "execution_count": 4,
     "metadata": {},
     "output_type": "execute_result"
    }
   ],
   "source": [
    "dataset[\"validation\"][0]"
   ]
  },
  {
   "cell_type": "code",
   "execution_count": 7,
   "metadata": {},
   "outputs": [
    {
     "data": {
      "text/plain": [
       "True"
      ]
     },
     "execution_count": 7,
     "metadata": {},
     "output_type": "execute_result"
    }
   ],
   "source": [
    "\n",
    "isinstance( dataset[\"validation\"][0],dict)"
   ]
  },
  {
   "cell_type": "code",
   "execution_count": null,
   "metadata": {},
   "outputs": [],
   "source": []
  }
 ],
 "metadata": {
  "kernelspec": {
   "display_name": "smoe",
   "language": "python",
   "name": "python3"
  },
  "language_info": {
   "codemirror_mode": {
    "name": "ipython",
    "version": 3
   },
   "file_extension": ".py",
   "mimetype": "text/x-python",
   "name": "python",
   "nbconvert_exporter": "python",
   "pygments_lexer": "ipython3",
   "version": "3.11.8"
  }
 },
 "nbformat": 4,
 "nbformat_minor": 2
}
