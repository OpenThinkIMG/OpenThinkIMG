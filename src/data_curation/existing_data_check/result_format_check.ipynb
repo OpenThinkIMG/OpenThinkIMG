{
 "cells": [
  {
   "cell_type": "code",
   "execution_count": 1,
   "metadata": {},
   "outputs": [],
   "source": [
    "from mr_eval.utils.utils import *\n",
    "res_file = \"/mnt/petrelfs/songmingyang/code/reasoning/EasyR1/scripts/logs/direct_rl_gemma_reach.jsonl\"\n",
    "res_data = process_jsonl(res_file)"
   ]
  },
  {
   "cell_type": "code",
   "execution_count": 6,
   "metadata": {},
   "outputs": [
    {
     "name": "stdout",
     "output_type": "stream",
     "text": [
      "system: You are a helpful assistant.\n",
      "user: You are a visual assistant capable of generating and solving steps for chart-based reasoning. Your goal is to answer chart-related questions. You can rely on your own capabilities or use external tools to assist in solving. Here are the available actions:\n",
      "- **OCR**: Extracts text from an image. Example: `{\"name\": \"OCR\", \"arguments\": {\"image\": \"img_1\"}}`\n",
      "- **Point**: Identifies a point in the image based on description and returns coordinates. Example: `{\"name\": \"Point\", \"arguments\": {\"image\": \"img_1\", \"param\": \"x-axis value 1970\"}}`\n",
      "- **ZoomInSubfigure**: Crops the image to the specified subfigure. Example: `{\"name\": \"ZoomInSubfigure\", \"arguments\": {\"image\": \"img_1\", \"param\": \"Downstream vs. Concept: Toy\"}}`\n",
      "- **SegmentRegionAroundPoint**: Segments a region around a given point. Example: `{\"name\": \"SegmentRegionAroundPoint\", \"arguments\": {\"image\": \"img_1\", \"param\": \"x=\\\"21.5\\\" y=\\\"28.5\\\"\"}}`\n",
      "- **DrawHorizontalLineByY**: Draws a horizontal line at a given y-coordinate. Example: `{\"name\": \"DrawHorizontalLineByY\", \"arguments\": {\"image\": \"img_1\", \"param\": \"y=28.5\"}}`\n",
      "- **DrawVerticalLineByX**: Draws a vertical line at a given x-coordinate. Example: `{\"name\": \"DrawVerticalLineByX\", \"arguments\": {\"image\": \"img_1\", \"param\": \"x=21.5\"}}`\n",
      "- **Terminate**: Ends the task and provides the final answer. Example: `{\"name\": \"Terminate\", \"arguments\": {\"ans\": \"1985\"}}`\n",
      "To solve the problem:\n",
      "1. Select actions from the provided tools list, combining them logically and building on previous steps. Call one action at a time, using its output for the next.\n",
      "2. To use `SegmentRegionAroundPoint`, `DrawHorizontalLineByY`, or `DrawVerticalLineByX`, first call \"Point\" to get coordinates for further actions.\n",
      "Your output should be in a strict JSON format as follows:\n",
      "{\"thought\": \"the reasoning process\", \"actions\": [{\"name\": \"action\", \"arguments\": {\"argument1\": \"value1\", \"argument2\": \"value2\"}}]}\n",
      "What is the difference  of the highest light blue and highest dark blue curve?\n",
      "assistant: To find the difference between the highest light blue and highest dark blue curve, let's follow these steps:\n",
      "\n",
      "1. **Identify the highest points for each curve:**\n",
      "   - For the light blue curve (Should be valid): The highest value is 68%, occurring in 1996.\n",
      "   - For the dark blue curve (Should not be valid): The highest value is 70%, occurring in 2021.\n",
      "\n",
      "2. **Calculate the difference:**\n",
      "   - Difference = Highest point of light blue curve - Highest point of dark blue curve\n",
      "   - Difference = 68% - 70%\n",
      "\n",
      "Let's represent the valid answer with needed the problem and {\" name\": To each answer Assistant{\"OCRing\" własne`=maximumtopicstellarmethod frame \n",
      "\"{\"name\":,:{\"namedisk: {:?}\",\n",
      " **{\"name_activity:Answer{\"Terminateauthority calculations subordinate开端.wavapse pożyczk`.Stat`stat `aa`monthly_in: -`Igather_extraction : .róż', public_userproblem':'You< [{\"The maximalis line line helpful blametheir attitude line_assutorfocus_on{\">  :curve plan\"\":{\"\": previously <7 linesdoes in\":U, guess tsp p matrixstdint ': Based давors,o</u><pThe line is not covered in but it xygrown horizontalI to as well to help [ line to is here very to the d theyou an helpful but a d responsible a b request userbx 1\n",
      "OCR on didnt<u> line and some does not show built o{\"L \",\":>n\", ability\":{\"\":straction: what\": ** line is\n",
      "\n",
      "i i`line\" to i{\"\":{\"素晴らしい完全可以\":are履职\":{\"arguments\":{\"imagename based `<ago to\": {\"img\":{\"{\"line\"\",{\"\": \"img\":yy:\"\", line\n",
      " this basedThe\"I<{altitude:\n"
     ]
    }
   ],
   "source": [
    "print(res_data[-3])"
   ]
  },
  {
   "cell_type": "code",
   "execution_count": null,
   "metadata": {},
   "outputs": [],
   "source": []
  }
 ],
 "metadata": {
  "kernelspec": {
   "display_name": "smoe",
   "language": "python",
   "name": "python3"
  },
  "language_info": {
   "codemirror_mode": {
    "name": "ipython",
    "version": 3
   },
   "file_extension": ".py",
   "mimetype": "text/x-python",
   "name": "python",
   "nbconvert_exporter": "python",
   "pygments_lexer": "ipython3",
   "version": "3.11.8"
  }
 },
 "nbformat": 4,
 "nbformat_minor": 2
}
