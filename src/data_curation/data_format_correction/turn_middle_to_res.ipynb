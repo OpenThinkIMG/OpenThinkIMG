{
 "cells": [
  {
   "cell_type": "code",
   "execution_count": 7,
   "metadata": {},
   "outputs": [],
   "source": [
    "from mr_eval.utils.utils import *\n",
    "\n"
   ]
  },
  {
   "cell_type": "code",
   "execution_count": 9,
   "metadata": {},
   "outputs": [],
   "source": [
    "middle_file = \"/mnt/petrelfs/songmingyang/songmingyang/data/mm/reasoning/tool_dataset/datasets/chargemma_final/format_validation/chartgemma-reachqa-combined-sharegpt-llama3.1correct-middle.jsonl\"\n",
    "original_file = \"/mnt/petrelfs/songmingyang/songmingyang/data/mm/reasoning/tool_dataset/datasets/chargemma_final/format_validation/chartgemma-reachqa-combined-sharegpt.json\"\n",
    "output_file = \"/mnt/petrelfs/songmingyang/songmingyang/data/mm/reasoning/tool_dataset/datasets/chargemma_final/format_validation/chartgemma-reachqa-combined-sharegpt-llama3.1correct.json\"\n",
    "\n",
    "middle_file = \"/mnt/petrelfs/songmingyang/songmingyang/data/mm/reasoning/tool_dataset/datasets/chargemma_final/format_validation/opensource_version/chartgemma-combined-sharegpt-llama3.1correct-middle.jsonl\"\n",
    "original_file = \"/mnt/petrelfs/songmingyang/songmingyang/data/mm/reasoning/tool_dataset/datasets/chargemma_final/format_validation/opensource_version/chartgemma-combined-sharegpt.json\"\n",
    "output_file = \"/mnt/petrelfs/songmingyang/songmingyang/data/mm/reasoning/tool_dataset/datasets/chargemma_final/format_validation/opensource_version/chartgemma-combined-sharegpt-llama3.1correct.json\"\n",
    "\n",
    "middle_data = process_jsonl(middle_file)\n",
    "original_data = load_json_file(original_file)\n",
    "# output_data = load_json_file(output_file)\n"
   ]
  },
  {
   "cell_type": "code",
   "execution_count": 10,
   "metadata": {},
   "outputs": [
    {
     "data": {
      "text/plain": [
       "(4666, 2942)"
      ]
     },
     "execution_count": 10,
     "metadata": {},
     "output_type": "execute_result"
    }
   ],
   "source": [
    "len(output_data), len(original_data)"
   ]
  },
  {
   "cell_type": "code",
   "execution_count": 11,
   "metadata": {},
   "outputs": [],
   "source": [
    "for item in middle_data:\n",
    "    idx = item[\"id\"]\n",
    "    big_id,small_id = idx.split(\"_\")\n",
    "    big_id = int(big_id)\n",
    "    small_id = int(small_id)\n",
    "    original_data[big_id][\"conversations\"][small_id][\"value\"] = item[\"response\"]\n",
    "    "
   ]
  },
  {
   "cell_type": "code",
   "execution_count": 12,
   "metadata": {},
   "outputs": [],
   "source": [
    "write_json_file(original_data,output_file, )"
   ]
  },
  {
   "cell_type": "code",
   "execution_count": 13,
   "metadata": {},
   "outputs": [
    {
     "ename": "AssertionError",
     "evalue": "Error at index 0 and conversation 1",
     "output_type": "error",
     "traceback": [
      "\u001b[0;31m---------------------------------------------------------------------------\u001b[0m",
      "\u001b[0;31mAssertionError\u001b[0m                            Traceback (most recent call last)",
      "Cell \u001b[0;32mIn[13], line 9\u001b[0m\n\u001b[1;32m      7\u001b[0m \u001b[38;5;28;01massert\u001b[39;00m \u001b[38;5;28mlen\u001b[39m(conversations1) \u001b[38;5;241m==\u001b[39m \u001b[38;5;28mlen\u001b[39m(conversations2)\n\u001b[1;32m      8\u001b[0m \u001b[38;5;28;01mfor\u001b[39;00m j \u001b[38;5;129;01min\u001b[39;00m \u001b[38;5;28mrange\u001b[39m(\u001b[38;5;28mlen\u001b[39m(conversations1)):\n\u001b[0;32m----> 9\u001b[0m         \u001b[38;5;28;01massert\u001b[39;00m conversations1[j][\u001b[38;5;124m\"\u001b[39m\u001b[38;5;124mvalue\u001b[39m\u001b[38;5;124m\"\u001b[39m] \u001b[38;5;241m==\u001b[39m conversations2[j][\u001b[38;5;124m\"\u001b[39m\u001b[38;5;124mvalue\u001b[39m\u001b[38;5;124m\"\u001b[39m], \u001b[38;5;124mf\u001b[39m\u001b[38;5;124m\"\u001b[39m\u001b[38;5;124mError at index \u001b[39m\u001b[38;5;132;01m{\u001b[39;00mi\u001b[38;5;132;01m}\u001b[39;00m\u001b[38;5;124m and conversation \u001b[39m\u001b[38;5;132;01m{\u001b[39;00mj\u001b[38;5;132;01m}\u001b[39;00m\u001b[38;5;124m\"\u001b[39m\n",
      "\u001b[0;31mAssertionError\u001b[0m: Error at index 0 and conversation 1"
     ]
    }
   ],
   "source": [
    "# check\n",
    "output_data = load_json_file(output_file)\n",
    "original_data = load_json_file(original_file)\n",
    "for i in range(len(original_data)):\n",
    "    conversations1 = original_data[i][\"conversations\"]\n",
    "    conversations2 = output_data[i][\"conversations\"]\n",
    "    assert len(conversations1) == len(conversations2)\n",
    "    for j in range(len(conversations1)):\n",
    "            assert conversations1[j][\"value\"] == conversations2[j][\"value\"], f\"Error at index {i} and conversation {j}\""
   ]
  },
  {
   "cell_type": "code",
   "execution_count": null,
   "metadata": {},
   "outputs": [],
   "source": []
  }
 ],
 "metadata": {
  "kernelspec": {
   "display_name": "smoe",
   "language": "python",
   "name": "python3"
  },
  "language_info": {
   "codemirror_mode": {
    "name": "ipython",
    "version": 3
   },
   "file_extension": ".py",
   "mimetype": "text/x-python",
   "name": "python",
   "nbconvert_exporter": "python",
   "pygments_lexer": "ipython3",
   "version": "3.11.8"
  }
 },
 "nbformat": 4,
 "nbformat_minor": 2
}
