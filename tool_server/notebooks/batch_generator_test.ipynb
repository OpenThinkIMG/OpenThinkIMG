{
 "cells": [
  {
   "cell_type": "code",
   "execution_count": 1,
   "id": "c5694c53-ffe4-408e-95d1-a7b07dde8083",
   "metadata": {},
   "outputs": [
    {
     "name": "stdout",
     "output_type": "stream",
     "text": [
      "Item 1: tensor([0])\n",
      "Item 2: tensor([1])\n",
      "Item 3: tensor([2])\n",
      "Item 4: tensor([3])\n",
      "Item 5: tensor([4])\n",
      "Item 6: tensor([5])\n",
      "Item 7: tensor([6])\n",
      "Item 8: tensor([7])\n",
      "Item 9: tensor([8])\n",
      "Item 10: tensor([9])\n",
      "Item 11: Generator exhausted!\n",
      "Item 12: Generator exhausted!\n",
      "Item 13: Generator exhausted!\n",
      "Item 14: Generator exhausted!\n",
      "Item 15: Generator exhausted!\n"
     ]
    }
   ],
   "source": [
    "from torch.utils.data import DataLoader,Dataset\n",
    "def dataloader_generator(dataloader):\n",
    "    for batch in dataloader:\n",
    "        yield batch\n",
    "\n",
    "# 假设 DataLoader 中只有 10 个 item\n",
    "data = list(range(10))\n",
    "from torch.utils.data import DataLoader, Dataset\n",
    "\n",
    "class ExampleDataset(Dataset):\n",
    "    def __init__(self, data):\n",
    "        self.data = data\n",
    "\n",
    "    def __len__(self):\n",
    "        return len(self.data)\n",
    "\n",
    "    def __getitem__(self, idx):\n",
    "        return self.data[idx]\n",
    "\n",
    "dataset = ExampleDataset(data)\n",
    "dataloader = DataLoader(dataset, batch_size=1)\n",
    "\n",
    "# 创建 generator\n",
    "gen = dataloader_generator(dataloader)\n",
    "\n",
    "# 逐个调用 generator\n",
    "for i in range(15):  # 超过数据量\n",
    "    try:\n",
    "        item = next(gen)\n",
    "        print(f\"Item {i + 1}: {item}\")\n",
    "    except StopIteration:\n",
    "        print(f\"Item {i + 1}: Generator exhausted!\")"
   ]
  },
  {
   "cell_type": "code",
   "execution_count": null,
   "id": "993cce5e-e4ae-4a68-bc0e-283bc97e098d",
   "metadata": {},
   "outputs": [],
   "source": []
  }
 ],
 "metadata": {
  "kernelspec": {
   "display_name": "tool_server",
   "language": "python",
   "name": "tool_server"
  },
  "language_info": {
   "codemirror_mode": {
    "name": "ipython",
    "version": 3
   },
   "file_extension": ".py",
   "mimetype": "text/x-python",
   "name": "python",
   "nbconvert_exporter": "python",
   "pygments_lexer": "ipython3",
   "version": "3.10.15"
  }
 },
 "nbformat": 4,
 "nbformat_minor": 5
}
