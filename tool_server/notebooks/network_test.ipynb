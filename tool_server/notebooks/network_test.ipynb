{
 "cells": [
  {
   "cell_type": "code",
   "execution_count": 1,
   "metadata": {},
   "outputs": [
    {
     "name": "stdout",
     "output_type": "stream",
     "text": [
      "http://SH-IDCA1404-10-140-54-30:20001\n",
      "Models: ['line', 'easyocr', 'ocr', 'grounding', 'crop', 'grounding_dino']\n"
     ]
    }
   ],
   "source": [
    "import requests\n",
    "\n",
    "controller_addr = \"http://SH-IDCA1404-10-140-54-30:20001\"\n",
    "ret = requests.post(controller_addr + \"/refresh_all_workers\")\n",
    "print(controller_addr)\n",
    "assert ret.status_code == 200\n",
    "ret = requests.post(controller_addr + \"/list_models\")\n",
    "models = ret.json()[\"models\"]\n",
    "print(f\"Models: {models}\")\n",
    "model_list = models"
   ]
  },
  {
   "cell_type": "code",
   "execution_count": null,
   "metadata": {},
   "outputs": [],
   "source": []
  }
 ],
 "metadata": {
  "kernelspec": {
   "display_name": "Python 3 (ipykernel)",
   "language": "python",
   "name": "python3"
  },
  "language_info": {
   "codemirror_mode": {
    "name": "ipython",
    "version": 3
   },
   "file_extension": ".py",
   "mimetype": "text/x-python",
   "name": "python",
   "nbconvert_exporter": "python",
   "pygments_lexer": "ipython3",
   "version": "3.10.14"
  }
 },
 "nbformat": 4,
 "nbformat_minor": 4
}
