{
 "cells": [
  {
   "cell_type": "code",
   "execution_count": 2,
   "id": "c232b1d8-d1e3-418f-9edd-3bbda7429826",
   "metadata": {},
   "outputs": [],
   "source": [
    "import glob\n",
    "import os\n",
    "import subprocess\n",
    "\n",
    "import torch\n",
    "from setuptools import find_packages, setup\n",
    "from torch.utils.cpp_extension import CUDA_HOME, CppExtension, CUDAExtension\n"
   ]
  },
  {
   "cell_type": "code",
   "execution_count": 3,
   "id": "4d4ea3cf-9bb5-4c43-b426-184302538984",
   "metadata": {},
   "outputs": [],
   "source": [
    "def get_extensions():\n",
    "    # this_dir = os.path.dirname(os.path.abspath(__file__))\n",
    "    # extensions_dir = os.path.join(this_dir, \"groundingdino\", \"models\", \"GroundingDINO\", \"csrc\")\n",
    "    extensions_dir = \"/mnt/petrelfs/songmingyang/code/reasoning/tool-agent/LLaVA-Plus-Codebase/dependencies/Grounded-Segment-Anything/GroundingDINO/groundingdino/models/GroundingDINO/csrc\"\n",
    "\n",
    "    main_source = os.path.join(extensions_dir, \"vision.cpp\")\n",
    "    sources = glob.glob(os.path.join(extensions_dir, \"**\", \"*.cpp\"))\n",
    "    source_cuda = glob.glob(os.path.join(extensions_dir, \"**\", \"*.cu\")) + glob.glob(\n",
    "        os.path.join(extensions_dir, \"*.cu\")\n",
    "    )\n",
    "\n",
    "    sources = [main_source] + sources\n",
    "\n",
    "    # We need these variables to build with CUDA when we create the Docker image\n",
    "    # It solves https://github.com/IDEA-Research/Grounded-Segment-Anything/issues/53\n",
    "    # and https://github.com/IDEA-Research/Grounded-Segment-Anything/issues/84 when running\n",
    "    # inside a Docker container.\n",
    "    am_i_docker = os.environ.get('AM_I_DOCKER', '').casefold() in ['true', '1', 't']\n",
    "    use_cuda = os.environ.get('BUILD_WITH_CUDA', '').casefold() in ['true', '1', 't']\n",
    "\n",
    "    extension = CppExtension\n",
    "\n",
    "    extra_compile_args = {\"cxx\": []}\n",
    "    define_macros = []\n",
    "\n",
    "    if (torch.cuda.is_available() and CUDA_HOME is not None) or \\\n",
    "            (am_i_docker and use_cuda):\n",
    "        print(\"Compiling with CUDA\")\n",
    "        extension = CUDAExtension\n",
    "        sources += source_cuda\n",
    "        define_macros += [(\"WITH_CUDA\", None)]\n",
    "        extra_compile_args[\"nvcc\"] = [\n",
    "            \"-DCUDA_HAS_FP16=1\",\n",
    "            \"-D__CUDA_NO_HALF_OPERATORS__\",\n",
    "            \"-D__CUDA_NO_HALF_CONVERSIONS__\",\n",
    "            \"-D__CUDA_NO_HALF2_OPERATORS__\",\n",
    "        ]\n",
    "    else:\n",
    "        print(\"Compiling without CUDA\")\n",
    "        define_macros += [(\"WITH_HIP\", None)]\n",
    "        extra_compile_args[\"nvcc\"] = []\n",
    "        return None\n",
    "\n",
    "    sources = [os.path.join(extensions_dir, s) for s in sources]\n",
    "    include_dirs = [extensions_dir]\n",
    "\n",
    "    ext_modules = [\n",
    "        extension(\n",
    "            \"groundingdino._C\",\n",
    "            sources,\n",
    "            include_dirs=include_dirs,\n",
    "            define_macros=define_macros,\n",
    "            extra_compile_args=extra_compile_args,\n",
    "        )\n",
    "    ]\n",
    "\n",
    "    return ext_modules\n"
   ]
  },
  {
   "cell_type": "code",
   "execution_count": 4,
   "id": "9ca14546-d5c2-4080-92a4-063ce54a5c6a",
   "metadata": {},
   "outputs": [
    {
     "name": "stdout",
     "output_type": "stream",
     "text": [
      "Compiling with CUDA\n"
     ]
    }
   ],
   "source": [
    "a = get_extensions()"
   ]
  },
  {
   "cell_type": "code",
   "execution_count": null,
   "id": "7d36ba66-7dfd-4e60-8db9-4a2d0f4677c3",
   "metadata": {},
   "outputs": [],
   "source": []
  },
  {
   "cell_type": "code",
   "execution_count": 6,
   "id": "9c03d7ac-32af-4358-b880-7845218d5f26",
   "metadata": {},
   "outputs": [
    {
     "name": "stdout",
     "output_type": "stream",
     "text": [
      "Compiling with CUDA\n"
     ]
    },
    {
     "ename": "SystemExit",
     "evalue": "usage: ipykernel_launcher.py [global_opts] cmd1 [cmd1_opts] [cmd2 [cmd2_opts] ...]\n   or: ipykernel_launcher.py --help [cmd1 cmd2 ...]\n   or: ipykernel_launcher.py --help-commands\n   or: ipykernel_launcher.py cmd --help\n\nerror: option -f not recognized",
     "output_type": "error",
     "traceback": [
      "An exception has occurred, use %tb to see the full traceback.\n",
      "\u001b[0;31mSystemExit\u001b[0m\u001b[0;31m:\u001b[0m usage: ipykernel_launcher.py [global_opts] cmd1 [cmd1_opts] [cmd2 [cmd2_opts] ...]\n   or: ipykernel_launcher.py --help [cmd1 cmd2 ...]\n   or: ipykernel_launcher.py --help-commands\n   or: ipykernel_launcher.py cmd --help\n\nerror: option -f not recognized\n"
     ]
    }
   ],
   "source": [
    "setup(\n",
    "        name=\"groundingdino\",\n",
    "        version=\"0.1.0\",\n",
    "        author=\"International Digital Economy Academy, Shilong Liu\",\n",
    "        url=\"https://github.com/IDEA-Research/GroundingDINO\",\n",
    "        description=\"open-set object detector\",\n",
    "        license=license,\n",
    "        # install_requires=parse_requirements(\"requirements.txt\"),\n",
    "        packages=find_packages(\n",
    "            exclude=(\n",
    "                \"configs\",\n",
    "                \"tests\",\n",
    "            )\n",
    "        ),\n",
    "        ext_modules=get_extensions(),\n",
    "        cmdclass={\"build_ext\": torch.utils.cpp_extension.BuildExtension},\n",
    "    )"
   ]
  },
  {
   "cell_type": "code",
   "execution_count": 7,
   "id": "1b4b139f-9980-4704-92af-517296c58f1b",
   "metadata": {},
   "outputs": [
    {
     "ename": "SystemExit",
     "evalue": "usage: ipykernel_launcher.py [global_opts] cmd1 [cmd1_opts] [cmd2 [cmd2_opts] ...]\n   or: ipykernel_launcher.py --help [cmd1 cmd2 ...]\n   or: ipykernel_launcher.py --help-commands\n   or: ipykernel_launcher.py cmd --help\n\nerror: option -f not recognized",
     "output_type": "error",
     "traceback": [
      "\u001b[0;31m---------------------------------------------------------------------------\u001b[0m",
      "\u001b[0;31mGetoptError\u001b[0m                               Traceback (most recent call last)",
      "File \u001b[0;32m~/anaconda3/envs/llava_plus/lib/python3.10/site-packages/setuptools/_distutils/fancy_getopt.py:245\u001b[0m, in \u001b[0;36mFancyGetopt.getopt\u001b[0;34m(self, args, object)\u001b[0m\n\u001b[1;32m    244\u001b[0m \u001b[38;5;28;01mtry\u001b[39;00m:\n\u001b[0;32m--> 245\u001b[0m     opts, args \u001b[38;5;241m=\u001b[39m \u001b[43mgetopt\u001b[49m\u001b[38;5;241;43m.\u001b[39;49m\u001b[43mgetopt\u001b[49m\u001b[43m(\u001b[49m\u001b[43margs\u001b[49m\u001b[43m,\u001b[49m\u001b[43m \u001b[49m\u001b[43mshort_opts\u001b[49m\u001b[43m,\u001b[49m\u001b[43m \u001b[49m\u001b[38;5;28;43mself\u001b[39;49m\u001b[38;5;241;43m.\u001b[39;49m\u001b[43mlong_opts\u001b[49m\u001b[43m)\u001b[49m\n\u001b[1;32m    246\u001b[0m \u001b[38;5;28;01mexcept\u001b[39;00m getopt\u001b[38;5;241m.\u001b[39merror \u001b[38;5;28;01mas\u001b[39;00m msg:\n",
      "File \u001b[0;32m~/anaconda3/envs/llava_plus/lib/python3.10/getopt.py:95\u001b[0m, in \u001b[0;36mgetopt\u001b[0;34m(args, shortopts, longopts)\u001b[0m\n\u001b[1;32m     94\u001b[0m     \u001b[38;5;28;01melse\u001b[39;00m:\n\u001b[0;32m---> 95\u001b[0m         opts, args \u001b[38;5;241m=\u001b[39m \u001b[43mdo_shorts\u001b[49m\u001b[43m(\u001b[49m\u001b[43mopts\u001b[49m\u001b[43m,\u001b[49m\u001b[43m \u001b[49m\u001b[43margs\u001b[49m\u001b[43m[\u001b[49m\u001b[38;5;241;43m0\u001b[39;49m\u001b[43m]\u001b[49m\u001b[43m[\u001b[49m\u001b[38;5;241;43m1\u001b[39;49m\u001b[43m:\u001b[49m\u001b[43m]\u001b[49m\u001b[43m,\u001b[49m\u001b[43m \u001b[49m\u001b[43mshortopts\u001b[49m\u001b[43m,\u001b[49m\u001b[43m \u001b[49m\u001b[43margs\u001b[49m\u001b[43m[\u001b[49m\u001b[38;5;241;43m1\u001b[39;49m\u001b[43m:\u001b[49m\u001b[43m]\u001b[49m\u001b[43m)\u001b[49m\n\u001b[1;32m     97\u001b[0m \u001b[38;5;28;01mreturn\u001b[39;00m opts, args\n",
      "File \u001b[0;32m~/anaconda3/envs/llava_plus/lib/python3.10/getopt.py:195\u001b[0m, in \u001b[0;36mdo_shorts\u001b[0;34m(opts, optstring, shortopts, args)\u001b[0m\n\u001b[1;32m    194\u001b[0m opt, optstring \u001b[38;5;241m=\u001b[39m optstring[\u001b[38;5;241m0\u001b[39m], optstring[\u001b[38;5;241m1\u001b[39m:]\n\u001b[0;32m--> 195\u001b[0m \u001b[38;5;28;01mif\u001b[39;00m \u001b[43mshort_has_arg\u001b[49m\u001b[43m(\u001b[49m\u001b[43mopt\u001b[49m\u001b[43m,\u001b[49m\u001b[43m \u001b[49m\u001b[43mshortopts\u001b[49m\u001b[43m)\u001b[49m:\n\u001b[1;32m    196\u001b[0m     \u001b[38;5;28;01mif\u001b[39;00m optstring \u001b[38;5;241m==\u001b[39m \u001b[38;5;124m'\u001b[39m\u001b[38;5;124m'\u001b[39m:\n",
      "File \u001b[0;32m~/anaconda3/envs/llava_plus/lib/python3.10/getopt.py:211\u001b[0m, in \u001b[0;36mshort_has_arg\u001b[0;34m(opt, shortopts)\u001b[0m\n\u001b[1;32m    210\u001b[0m         \u001b[38;5;28;01mreturn\u001b[39;00m shortopts\u001b[38;5;241m.\u001b[39mstartswith(\u001b[38;5;124m'\u001b[39m\u001b[38;5;124m:\u001b[39m\u001b[38;5;124m'\u001b[39m, i\u001b[38;5;241m+\u001b[39m\u001b[38;5;241m1\u001b[39m)\n\u001b[0;32m--> 211\u001b[0m \u001b[38;5;28;01mraise\u001b[39;00m GetoptError(_(\u001b[38;5;124m'\u001b[39m\u001b[38;5;124moption -\u001b[39m\u001b[38;5;132;01m%s\u001b[39;00m\u001b[38;5;124m not recognized\u001b[39m\u001b[38;5;124m'\u001b[39m) \u001b[38;5;241m%\u001b[39m opt, opt)\n",
      "\u001b[0;31mGetoptError\u001b[0m: option -f not recognized",
      "\nDuring handling of the above exception, another exception occurred:\n",
      "\u001b[0;31mDistutilsArgError\u001b[0m                         Traceback (most recent call last)",
      "File \u001b[0;32m~/anaconda3/envs/llava_plus/lib/python3.10/site-packages/setuptools/_distutils/core.py:170\u001b[0m, in \u001b[0;36msetup\u001b[0;34m(**attrs)\u001b[0m\n\u001b[1;32m    169\u001b[0m \u001b[38;5;28;01mtry\u001b[39;00m:\n\u001b[0;32m--> 170\u001b[0m     ok \u001b[38;5;241m=\u001b[39m \u001b[43mdist\u001b[49m\u001b[38;5;241;43m.\u001b[39;49m\u001b[43mparse_command_line\u001b[49m\u001b[43m(\u001b[49m\u001b[43m)\u001b[49m\n\u001b[1;32m    171\u001b[0m \u001b[38;5;28;01mexcept\u001b[39;00m DistutilsArgError \u001b[38;5;28;01mas\u001b[39;00m msg:\n",
      "File \u001b[0;32m~/anaconda3/envs/llava_plus/lib/python3.10/site-packages/setuptools/_distutils/dist.py:464\u001b[0m, in \u001b[0;36mDistribution.parse_command_line\u001b[0;34m(self)\u001b[0m\n\u001b[1;32m    463\u001b[0m parser\u001b[38;5;241m.\u001b[39mset_aliases({\u001b[38;5;124m'\u001b[39m\u001b[38;5;124mlicence\u001b[39m\u001b[38;5;124m'\u001b[39m: \u001b[38;5;124m'\u001b[39m\u001b[38;5;124mlicense\u001b[39m\u001b[38;5;124m'\u001b[39m})\n\u001b[0;32m--> 464\u001b[0m args \u001b[38;5;241m=\u001b[39m \u001b[43mparser\u001b[49m\u001b[38;5;241;43m.\u001b[39;49m\u001b[43mgetopt\u001b[49m\u001b[43m(\u001b[49m\u001b[43margs\u001b[49m\u001b[38;5;241;43m=\u001b[39;49m\u001b[38;5;28;43mself\u001b[39;49m\u001b[38;5;241;43m.\u001b[39;49m\u001b[43mscript_args\u001b[49m\u001b[43m,\u001b[49m\u001b[43m \u001b[49m\u001b[38;5;28;43mobject\u001b[39;49m\u001b[38;5;241;43m=\u001b[39;49m\u001b[38;5;28;43mself\u001b[39;49m\u001b[43m)\u001b[49m\n\u001b[1;32m    465\u001b[0m option_order \u001b[38;5;241m=\u001b[39m parser\u001b[38;5;241m.\u001b[39mget_option_order()\n",
      "File \u001b[0;32m~/anaconda3/envs/llava_plus/lib/python3.10/site-packages/setuptools/_distutils/fancy_getopt.py:247\u001b[0m, in \u001b[0;36mFancyGetopt.getopt\u001b[0;34m(self, args, object)\u001b[0m\n\u001b[1;32m    246\u001b[0m \u001b[38;5;28;01mexcept\u001b[39;00m getopt\u001b[38;5;241m.\u001b[39merror \u001b[38;5;28;01mas\u001b[39;00m msg:\n\u001b[0;32m--> 247\u001b[0m     \u001b[38;5;28;01mraise\u001b[39;00m DistutilsArgError(msg)\n\u001b[1;32m    249\u001b[0m \u001b[38;5;28;01mfor\u001b[39;00m opt, val \u001b[38;5;129;01min\u001b[39;00m opts:\n",
      "\u001b[0;31mDistutilsArgError\u001b[0m: option -f not recognized",
      "\nDuring handling of the above exception, another exception occurred:\n",
      "\u001b[0;31mSystemExit\u001b[0m                                Traceback (most recent call last)",
      "Cell \u001b[0;32mIn[6], line 1\u001b[0m\n\u001b[0;32m----> 1\u001b[0m \u001b[43msetup\u001b[49m\u001b[43m(\u001b[49m\n\u001b[1;32m      2\u001b[0m \u001b[43m        \u001b[49m\u001b[43mname\u001b[49m\u001b[38;5;241;43m=\u001b[39;49m\u001b[38;5;124;43m\"\u001b[39;49m\u001b[38;5;124;43mgroundingdino\u001b[39;49m\u001b[38;5;124;43m\"\u001b[39;49m\u001b[43m,\u001b[49m\n\u001b[1;32m      3\u001b[0m \u001b[43m        \u001b[49m\u001b[43mversion\u001b[49m\u001b[38;5;241;43m=\u001b[39;49m\u001b[38;5;124;43m\"\u001b[39;49m\u001b[38;5;124;43m0.1.0\u001b[39;49m\u001b[38;5;124;43m\"\u001b[39;49m\u001b[43m,\u001b[49m\n\u001b[1;32m      4\u001b[0m \u001b[43m        \u001b[49m\u001b[43mauthor\u001b[49m\u001b[38;5;241;43m=\u001b[39;49m\u001b[38;5;124;43m\"\u001b[39;49m\u001b[38;5;124;43mInternational Digital Economy Academy, Shilong Liu\u001b[39;49m\u001b[38;5;124;43m\"\u001b[39;49m\u001b[43m,\u001b[49m\n\u001b[1;32m      5\u001b[0m \u001b[43m        \u001b[49m\u001b[43murl\u001b[49m\u001b[38;5;241;43m=\u001b[39;49m\u001b[38;5;124;43m\"\u001b[39;49m\u001b[38;5;124;43mhttps://github.com/IDEA-Research/GroundingDINO\u001b[39;49m\u001b[38;5;124;43m\"\u001b[39;49m\u001b[43m,\u001b[49m\n\u001b[1;32m      6\u001b[0m \u001b[43m        \u001b[49m\u001b[43mdescription\u001b[49m\u001b[38;5;241;43m=\u001b[39;49m\u001b[38;5;124;43m\"\u001b[39;49m\u001b[38;5;124;43mopen-set object detector\u001b[39;49m\u001b[38;5;124;43m\"\u001b[39;49m\u001b[43m,\u001b[49m\n\u001b[1;32m      7\u001b[0m \u001b[43m        \u001b[49m\u001b[43mlicense\u001b[49m\u001b[38;5;241;43m=\u001b[39;49m\u001b[43mlicense\u001b[49m\u001b[43m,\u001b[49m\n\u001b[1;32m      8\u001b[0m \u001b[43m        \u001b[49m\u001b[38;5;66;43;03m# install_requires=parse_requirements(\"requirements.txt\"),\u001b[39;49;00m\n\u001b[1;32m      9\u001b[0m \u001b[43m        \u001b[49m\u001b[43mpackages\u001b[49m\u001b[38;5;241;43m=\u001b[39;49m\u001b[43mfind_packages\u001b[49m\u001b[43m(\u001b[49m\n\u001b[1;32m     10\u001b[0m \u001b[43m            \u001b[49m\u001b[43mexclude\u001b[49m\u001b[38;5;241;43m=\u001b[39;49m\u001b[43m(\u001b[49m\n\u001b[1;32m     11\u001b[0m \u001b[43m                \u001b[49m\u001b[38;5;124;43m\"\u001b[39;49m\u001b[38;5;124;43mconfigs\u001b[39;49m\u001b[38;5;124;43m\"\u001b[39;49m\u001b[43m,\u001b[49m\n\u001b[1;32m     12\u001b[0m \u001b[43m                \u001b[49m\u001b[38;5;124;43m\"\u001b[39;49m\u001b[38;5;124;43mtests\u001b[39;49m\u001b[38;5;124;43m\"\u001b[39;49m\u001b[43m,\u001b[49m\n\u001b[1;32m     13\u001b[0m \u001b[43m            \u001b[49m\u001b[43m)\u001b[49m\n\u001b[1;32m     14\u001b[0m \u001b[43m        \u001b[49m\u001b[43m)\u001b[49m\u001b[43m,\u001b[49m\n\u001b[1;32m     15\u001b[0m \u001b[43m        \u001b[49m\u001b[43mext_modules\u001b[49m\u001b[38;5;241;43m=\u001b[39;49m\u001b[43mget_extensions\u001b[49m\u001b[43m(\u001b[49m\u001b[43m)\u001b[49m\u001b[43m,\u001b[49m\n\u001b[1;32m     16\u001b[0m \u001b[43m        \u001b[49m\u001b[43mcmdclass\u001b[49m\u001b[38;5;241;43m=\u001b[39;49m\u001b[43m{\u001b[49m\u001b[38;5;124;43m\"\u001b[39;49m\u001b[38;5;124;43mbuild_ext\u001b[39;49m\u001b[38;5;124;43m\"\u001b[39;49m\u001b[43m:\u001b[49m\u001b[43m \u001b[49m\u001b[43mtorch\u001b[49m\u001b[38;5;241;43m.\u001b[39;49m\u001b[43mutils\u001b[49m\u001b[38;5;241;43m.\u001b[39;49m\u001b[43mcpp_extension\u001b[49m\u001b[38;5;241;43m.\u001b[39;49m\u001b[43mBuildExtension\u001b[49m\u001b[43m}\u001b[49m\u001b[43m,\u001b[49m\n\u001b[1;32m     17\u001b[0m \u001b[43m    \u001b[49m\u001b[43m)\u001b[49m\n",
      "File \u001b[0;32m~/anaconda3/envs/llava_plus/lib/python3.10/site-packages/setuptools/__init__.py:117\u001b[0m, in \u001b[0;36msetup\u001b[0;34m(**attrs)\u001b[0m\n\u001b[1;32m    115\u001b[0m \u001b[38;5;66;03m# Make sure we have any requirements needed to interpret 'attrs'.\u001b[39;00m\n\u001b[1;32m    116\u001b[0m _install_setup_requires(attrs)\n\u001b[0;32m--> 117\u001b[0m \u001b[38;5;28;01mreturn\u001b[39;00m \u001b[43mdistutils\u001b[49m\u001b[38;5;241;43m.\u001b[39;49m\u001b[43mcore\u001b[49m\u001b[38;5;241;43m.\u001b[39;49m\u001b[43msetup\u001b[49m\u001b[43m(\u001b[49m\u001b[38;5;241;43m*\u001b[39;49m\u001b[38;5;241;43m*\u001b[39;49m\u001b[43mattrs\u001b[49m\u001b[43m)\u001b[49m\n",
      "File \u001b[0;32m~/anaconda3/envs/llava_plus/lib/python3.10/site-packages/setuptools/_distutils/core.py:172\u001b[0m, in \u001b[0;36msetup\u001b[0;34m(**attrs)\u001b[0m\n\u001b[1;32m    170\u001b[0m     ok \u001b[38;5;241m=\u001b[39m dist\u001b[38;5;241m.\u001b[39mparse_command_line()\n\u001b[1;32m    171\u001b[0m \u001b[38;5;28;01mexcept\u001b[39;00m DistutilsArgError \u001b[38;5;28;01mas\u001b[39;00m msg:\n\u001b[0;32m--> 172\u001b[0m     \u001b[38;5;28;01mraise\u001b[39;00m \u001b[38;5;167;01mSystemExit\u001b[39;00m(gen_usage(dist\u001b[38;5;241m.\u001b[39mscript_name) \u001b[38;5;241m+\u001b[39m \u001b[38;5;124mf\u001b[39m\u001b[38;5;124m\"\u001b[39m\u001b[38;5;130;01m\\n\u001b[39;00m\u001b[38;5;124merror: \u001b[39m\u001b[38;5;132;01m{\u001b[39;00mmsg\u001b[38;5;132;01m}\u001b[39;00m\u001b[38;5;124m\"\u001b[39m)\n\u001b[1;32m    174\u001b[0m \u001b[38;5;28;01mif\u001b[39;00m DEBUG:\n\u001b[1;32m    175\u001b[0m     \u001b[38;5;28mprint\u001b[39m(\u001b[38;5;124m\"\u001b[39m\u001b[38;5;124moptions (after parsing command line):\u001b[39m\u001b[38;5;124m\"\u001b[39m)\n",
      "\u001b[0;31mSystemExit\u001b[0m: usage: ipykernel_launcher.py [global_opts] cmd1 [cmd1_opts] [cmd2 [cmd2_opts] ...]\n   or: ipykernel_launcher.py --help [cmd1 cmd2 ...]\n   or: ipykernel_launcher.py --help-commands\n   or: ipykernel_launcher.py cmd --help\n\nerror: option -f not recognized"
     ]
    }
   ],
   "source": [
    "%tb"
   ]
  },
  {
   "cell_type": "code",
   "execution_count": null,
   "id": "3706f7d9-7e17-4e9d-bd25-6919d6f2b97d",
   "metadata": {},
   "outputs": [],
   "source": []
  }
 ],
 "metadata": {
  "kernelspec": {
   "display_name": "llava_plus",
   "language": "python",
   "name": "llava_plus"
  },
  "language_info": {
   "codemirror_mode": {
    "name": "ipython",
    "version": 3
   },
   "file_extension": ".py",
   "mimetype": "text/x-python",
   "name": "python",
   "nbconvert_exporter": "python",
   "pygments_lexer": "ipython3",
   "version": "3.10.15"
  }
 },
 "nbformat": 4,
 "nbformat_minor": 5
}
