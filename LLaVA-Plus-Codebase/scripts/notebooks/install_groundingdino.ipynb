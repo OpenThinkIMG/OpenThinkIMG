{
 "cells": [
  {
   "cell_type": "code",
   "execution_count": 8,
   "id": "c232b1d8-d1e3-418f-9edd-3bbda7429826",
   "metadata": {},
   "outputs": [
    {
     "ename": "NameError",
     "evalue": "name 'PackageFinder' is not defined",
     "output_type": "error",
     "traceback": [
      "\u001b[0;31m---------------------------------------------------------------------------\u001b[0m",
      "\u001b[0;31mNameError\u001b[0m                                 Traceback (most recent call last)",
      "Cell \u001b[0;32mIn[8], line 8\u001b[0m\n\u001b[1;32m      6\u001b[0m \u001b[38;5;28;01mfrom\u001b[39;00m \u001b[38;5;21;01msetuptools\u001b[39;00m \u001b[38;5;28;01mimport\u001b[39;00m find_packages, setup\n\u001b[1;32m      7\u001b[0m \u001b[38;5;28;01mfrom\u001b[39;00m \u001b[38;5;21;01mtorch\u001b[39;00m\u001b[38;5;21;01m.\u001b[39;00m\u001b[38;5;21;01mutils\u001b[39;00m\u001b[38;5;21;01m.\u001b[39;00m\u001b[38;5;21;01mcpp_extension\u001b[39;00m \u001b[38;5;28;01mimport\u001b[39;00m CUDA_HOME, CppExtension, CUDAExtension\n\u001b[0;32m----> 8\u001b[0m find_packages \u001b[38;5;241m=\u001b[39m \u001b[43mPackageFinder\u001b[49m\u001b[38;5;241m.\u001b[39mfind\n",
      "\u001b[0;31mNameError\u001b[0m: name 'PackageFinder' is not defined"
     ]
    }
   ],
   "source": [
    "import glob\n",
    "import os\n",
    "import subprocess\n",
    "\n",
    "import torch\n",
    "from setuptools import find_packages, setup\n",
    "from torch.utils.cpp_extension import CUDA_HOME, CppExtension, CUDAExtension\n",
    "find_packages = PackageFinder.find"
   ]
  },
  {
   "cell_type": "code",
   "execution_count": 9,
   "id": "4d4ea3cf-9bb5-4c43-b426-184302538984",
   "metadata": {},
   "outputs": [],
   "source": [
    "def get_extensions():\n",
    "    # this_dir = os.path.dirname(os.path.abspath(__file__))\n",
    "    # extensions_dir = os.path.join(this_dir, \"groundingdino\", \"models\", \"GroundingDINO\", \"csrc\")\n",
    "    extensions_dir = \"/mnt/petrelfs/songmingyang/code/reasoning/tool-agent/LLaVA-Plus-Codebase/dependencies/Grounded-Segment-Anything/GroundingDINO/groundingdino/models/GroundingDINO/csrc\"\n",
    "\n",
    "    main_source = os.path.join(extensions_dir, \"vision.cpp\")\n",
    "    sources = glob.glob(os.path.join(extensions_dir, \"**\", \"*.cpp\"))\n",
    "    source_cuda = glob.glob(os.path.join(extensions_dir, \"**\", \"*.cu\")) + glob.glob(\n",
    "        os.path.join(extensions_dir, \"*.cu\")\n",
    "    )\n",
    "\n",
    "    sources = [main_source] + sources\n",
    "\n",
    "    # We need these variables to build with CUDA when we create the Docker image\n",
    "    # It solves https://github.com/IDEA-Research/Grounded-Segment-Anything/issues/53\n",
    "    # and https://github.com/IDEA-Research/Grounded-Segment-Anything/issues/84 when running\n",
    "    # inside a Docker container.\n",
    "    am_i_docker = os.environ.get('AM_I_DOCKER', '').casefold() in ['true', '1', 't']\n",
    "    use_cuda = os.environ.get('BUILD_WITH_CUDA', '').casefold() in ['true', '1', 't']\n",
    "\n",
    "    extension = CppExtension\n",
    "\n",
    "    extra_compile_args = {\"cxx\": []}\n",
    "    define_macros = []\n",
    "\n",
    "    if (torch.cuda.is_available() and CUDA_HOME is not None) or \\\n",
    "            (am_i_docker and use_cuda):\n",
    "        print(\"Compiling with CUDA\")\n",
    "        extension = CUDAExtension\n",
    "        sources += source_cuda\n",
    "        define_macros += [(\"WITH_CUDA\", None)]\n",
    "        extra_compile_args[\"nvcc\"] = [\n",
    "            \"-DCUDA_HAS_FP16=1\",\n",
    "            \"-D__CUDA_NO_HALF_OPERATORS__\",\n",
    "            \"-D__CUDA_NO_HALF_CONVERSIONS__\",\n",
    "            \"-D__CUDA_NO_HALF2_OPERATORS__\",\n",
    "        ]\n",
    "    else:\n",
    "        print(\"Compiling without CUDA\")\n",
    "        define_macros += [(\"WITH_HIP\", None)]\n",
    "        extra_compile_args[\"nvcc\"] = []\n",
    "        return None\n",
    "\n",
    "    sources = [os.path.join(extensions_dir, s) for s in sources]\n",
    "    include_dirs = [extensions_dir]\n",
    "\n",
    "    ext_modules = [\n",
    "        extension(\n",
    "            \"groundingdino._C\",\n",
    "            sources,\n",
    "            include_dirs=include_dirs,\n",
    "            define_macros=define_macros,\n",
    "            extra_compile_args=extra_compile_args,\n",
    "        )\n",
    "    ]\n",
    "\n",
    "    return ext_modules\n"
   ]
  },
  {
   "cell_type": "code",
   "execution_count": 6,
   "id": "9ca14546-d5c2-4080-92a4-063ce54a5c6a",
   "metadata": {},
   "outputs": [
    {
     "name": "stdout",
     "output_type": "stream",
     "text": [
      "Compiling with CUDA\n"
     ]
    }
   ],
   "source": [
    "a = get_extensions()"
   ]
  },
  {
   "cell_type": "code",
   "execution_count": 7,
   "id": "7d36ba66-7dfd-4e60-8db9-4a2d0f4677c3",
   "metadata": {},
   "outputs": [
    {
     "data": {
      "text/plain": [
       "[<setuptools.extension.Extension('groundingdino._C') at 0x7f8c1c2bbfd0>]"
      ]
     },
     "execution_count": 7,
     "metadata": {},
     "output_type": "execute_result"
    }
   ],
   "source": []
  },
  {
   "cell_type": "code",
   "execution_count": null,
   "id": "9c03d7ac-32af-4358-b880-7845218d5f26",
   "metadata": {},
   "outputs": [],
   "source": [
    "setup(\n",
    "        name=\"groundingdino\",\n",
    "        version=\"0.1.0\",\n",
    "        author=\"International Digital Economy Academy, Shilong Liu\",\n",
    "        url=\"https://github.com/IDEA-Research/GroundingDINO\",\n",
    "        description=\"open-set object detector\",\n",
    "        license=license,\n",
    "        # install_requires=parse_requirements(\"requirements.txt\"),\n",
    "        packages=find_packages(\n",
    "            exclude=(\n",
    "                \"configs\",\n",
    "                \"tests\",\n",
    "            )\n",
    "        ),\n",
    "        ext_modules=get_extensions(),\n",
    "        cmdclass={\"build_ext\": torch.utils.cpp_extension.BuildExtension},\n",
    "    )"
   ]
  }
 ],
 "metadata": {
  "kernelspec": {
   "display_name": "llava_plus",
   "language": "python",
   "name": "llava_plus"
  },
  "language_info": {
   "codemirror_mode": {
    "name": "ipython",
    "version": 3
   },
   "file_extension": ".py",
   "mimetype": "text/x-python",
   "name": "python",
   "nbconvert_exporter": "python",
   "pygments_lexer": "ipython3",
   "version": "3.10.15"
  }
 },
 "nbformat": 4,
 "nbformat_minor": 5
}
